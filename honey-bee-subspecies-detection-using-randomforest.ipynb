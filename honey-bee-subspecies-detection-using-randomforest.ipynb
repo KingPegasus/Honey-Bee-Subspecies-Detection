{
 "cells": [
  {
   "cell_type": "markdown",
   "metadata": {},
   "source": [
    "# Submitted By: M. Raza Khalid Saleemi\n",
    "# Context\n",
    "Every third bite of food relies on pollination by bees. At the same time, this past winter honeybee hive losses have exceeded 60% in some states. How can we address this issue? How can we better understand our bees? And most importantly, how can we save them before it's too late?\n",
    "\n",
    "While many indications of hive strength and health are visible on the inside of the hive, frequent check-ups on the hive are time-consuming and disruptive to the bees' workflow and hive in general. By investigating the bees that leave the hive, we can gain a more complete understanding of the hive itself. For example, an unhealthy hive infected with varroa mites will have bees with deformed wings or mites on their backs. These characteristics can be observed without opening the hive. To protect against robber bees, we could track the ratio of pollen-carrying bees vs those without. A large influx of bees without pollen may be an indication of robber bees. This dataset aims to provide basic visual data to train machine learning models to classify bees in these categories, paving the way for more intelligent hive monitoring or beekeeping in general."
   ]
  },
  {
   "cell_type": "code",
   "execution_count": 11,
   "metadata": {},
   "outputs": [],
   "source": [
    "import numpy as np\n",
    "import pandas as pd\n",
    "import matplotlib.pyplot as plt\n",
    "import seaborn as sns\n",
    "from statistics import mean\n",
    "%matplotlib inline"
   ]
  },
  {
   "cell_type": "code",
   "execution_count": 2,
   "metadata": {},
   "outputs": [],
   "source": [
    "import cv2\n",
    "import os"
   ]
  },
  {
   "cell_type": "code",
   "execution_count": 3,
   "metadata": {},
   "outputs": [],
   "source": [
    "location_train = '../input/ds-14/train images/train images/'\n",
    "train_images_name = os.listdir(location_train)"
   ]
  },
  {
   "cell_type": "code",
   "execution_count": 4,
   "metadata": {},
   "outputs": [
    {
     "data": {
      "text/plain": [
       "4172"
      ]
     },
     "execution_count": 4,
     "metadata": {},
     "output_type": "execute_result"
    }
   ],
   "source": [
    "len(train_images_name)"
   ]
  },
  {
   "cell_type": "code",
   "execution_count": 5,
   "metadata": {},
   "outputs": [],
   "source": [
    "image_data = cv2.imread(location_train+train_images_name[0])"
   ]
  },
  {
   "cell_type": "code",
   "execution_count": 6,
   "metadata": {},
   "outputs": [
    {
     "data": {
      "text/plain": [
       "(51, 48, 3)"
      ]
     },
     "execution_count": 6,
     "metadata": {},
     "output_type": "execute_result"
    }
   ],
   "source": [
    "image_data.shape"
   ]
  },
  {
   "cell_type": "code",
   "execution_count": 7,
   "metadata": {},
   "outputs": [
    {
     "data": {
      "text/html": [
       "<div>\n",
       "<style scoped>\n",
       "    .dataframe tbody tr th:only-of-type {\n",
       "        vertical-align: middle;\n",
       "    }\n",
       "\n",
       "    .dataframe tbody tr th {\n",
       "        vertical-align: top;\n",
       "    }\n",
       "\n",
       "    .dataframe thead th {\n",
       "        text-align: right;\n",
       "    }\n",
       "</style>\n",
       "<table border=\"1\" class=\"dataframe\">\n",
       "  <thead>\n",
       "    <tr style=\"text-align: right;\">\n",
       "      <th></th>\n",
       "      <th>file</th>\n",
       "      <th>date</th>\n",
       "      <th>location</th>\n",
       "      <th>health</th>\n",
       "      <th>subspecies</th>\n",
       "    </tr>\n",
       "  </thead>\n",
       "  <tbody>\n",
       "    <tr>\n",
       "      <th>0</th>\n",
       "      <td>010_524.png</td>\n",
       "      <td>8/19/18</td>\n",
       "      <td>Des Moines, IA, USA</td>\n",
       "      <td>healthy</td>\n",
       "      <td>Carniolan honey bee</td>\n",
       "    </tr>\n",
       "    <tr>\n",
       "      <th>1</th>\n",
       "      <td>030_388.png</td>\n",
       "      <td>8/17/18</td>\n",
       "      <td>Alvin, TX, USA</td>\n",
       "      <td>ant problems</td>\n",
       "      <td>Italian honey bee</td>\n",
       "    </tr>\n",
       "    <tr>\n",
       "      <th>2</th>\n",
       "      <td>046_051.png</td>\n",
       "      <td>8/19/18</td>\n",
       "      <td>Des Moines, IA, USA</td>\n",
       "      <td>healthy</td>\n",
       "      <td>Carniolan honey bee</td>\n",
       "    </tr>\n",
       "    <tr>\n",
       "      <th>3</th>\n",
       "      <td>021_210.png</td>\n",
       "      <td>8/8/18</td>\n",
       "      <td>Saratoga, CA, USA</td>\n",
       "      <td>healthy</td>\n",
       "      <td>Italian honey bee</td>\n",
       "    </tr>\n",
       "    <tr>\n",
       "      <th>4</th>\n",
       "      <td>017_127.png</td>\n",
       "      <td>8/6/18</td>\n",
       "      <td>Saratoga, CA, USA</td>\n",
       "      <td>healthy</td>\n",
       "      <td>Italian honey bee</td>\n",
       "    </tr>\n",
       "  </tbody>\n",
       "</table>\n",
       "</div>"
      ],
      "text/plain": [
       "          file     date             location        health  \\\n",
       "0  010_524.png  8/19/18  Des Moines, IA, USA       healthy   \n",
       "1  030_388.png  8/17/18       Alvin, TX, USA  ant problems   \n",
       "2  046_051.png  8/19/18  Des Moines, IA, USA       healthy   \n",
       "3  021_210.png   8/8/18    Saratoga, CA, USA       healthy   \n",
       "4  017_127.png   8/6/18    Saratoga, CA, USA       healthy   \n",
       "\n",
       "            subspecies  \n",
       "0  Carniolan honey bee  \n",
       "1    Italian honey bee  \n",
       "2  Carniolan honey bee  \n",
       "3    Italian honey bee  \n",
       "4    Italian honey bee  "
      ]
     },
     "execution_count": 7,
     "metadata": {},
     "output_type": "execute_result"
    }
   ],
   "source": [
    "train_data = pd.read_csv('../input/ds-14/train.csv')\n",
    "train_data.head()"
   ]
  },
  {
   "cell_type": "code",
   "execution_count": 8,
   "metadata": {},
   "outputs": [
    {
     "data": {
      "text/plain": [
       "<matplotlib.axes._subplots.AxesSubplot at 0x7f6b05a9acf8>"
      ]
     },
     "execution_count": 8,
     "metadata": {},
     "output_type": "execute_result"
    },
    {
     "data": {
      "image/png": "[encoded data removed]",
      "text/plain": [
       "<Figure size 1080x432 with 1 Axes>"
      ]
     },
     "metadata": {
      "needs_background": "light"
     },
     "output_type": "display_data"
    }
   ],
   "source": [
    "plt.figure(figsize= (15,6))\n",
    "sns.countplot(train_data.subspecies)"
   ]
  },
  {
   "cell_type": "code",
   "execution_count": 12,
   "metadata": {},
   "outputs": [
    {
     "name": "stdout",
     "output_type": "stream",
     "text": [
      "maximum Image Height:  520\n",
      "maximum Image Width:  392\n",
      "Average Image Height:  71.52372962607862\n",
      "Average Image Width:  73.9515819750719\n"
     ]
    }
   ],
   "source": [
    "H,W = [],[]\n",
    "for i,filename in enumerate(train_data.file):\n",
    "    oriimg = cv2.imread(location_train+filename)\n",
    "    height, width, depth = oriimg.shape\n",
    "    H.append(height)\n",
    "    W.append(width)\n",
    "print('maximum Image Height: ',max(H))\n",
    "print('maximum Image Width: ',max(W))\n",
    "print('Average Image Height: ',mean(H))\n",
    "print('Average Image Width: ',mean(W))"
   ]
  },
  {
   "cell_type": "code",
   "execution_count": 14,
   "metadata": {},
   "outputs": [],
   "source": [
    "H2= int(mean(H))\n",
    "W2= int(mean(W))\n",
    "oriimg = cv2.imread(location_train+train_data.file[0])\n",
    "IMG = cv2.resize(oriimg,(W2,H2),interpolation=cv2.INTER_CUBIC).flatten()\n",
    "\n",
    "for i,filename in enumerate(train_data.file):\n",
    "    if i != 0:\n",
    "        oriimg = cv2.imread(location_train+filename)\n",
    "        newimg = cv2.resize(oriimg,(W2,H2),interpolation=cv2.INTER_CUBIC).flatten()\n",
    "        IMG = np.vstack((IMG,newimg))\n",
    "    "
   ]
  },
  {
   "cell_type": "code",
   "execution_count": 15,
   "metadata": {},
   "outputs": [
    {
     "data": {
      "text/plain": [
       "(4172, 15549)"
      ]
     },
     "execution_count": 15,
     "metadata": {},
     "output_type": "execute_result"
    }
   ],
   "source": [
    "IMG.shape"
   ]
  },
  {
   "cell_type": "code",
   "execution_count": 16,
   "metadata": {},
   "outputs": [
    {
     "data": {
      "text/plain": [
       "dtype('uint8')"
      ]
     },
     "execution_count": 16,
     "metadata": {},
     "output_type": "execute_result"
    }
   ],
   "source": [
    "IMG.dtype"
   ]
  },
  {
   "cell_type": "code",
   "execution_count": 17,
   "metadata": {},
   "outputs": [],
   "source": [
    "Ytrain = train_data.subspecies"
   ]
  },
  {
   "cell_type": "code",
   "execution_count": 18,
   "metadata": {},
   "outputs": [],
   "source": [
    "from sklearn.decomposition import PCA\n",
    "pca = PCA(.95,random_state=42)"
   ]
  },
  {
   "cell_type": "code",
   "execution_count": 19,
   "metadata": {},
   "outputs": [
    {
     "name": "stdout",
     "output_type": "stream",
     "text": [
      "(4172, 182) (4172,)\n"
     ]
    }
   ],
   "source": [
    "pca.fit(IMG)\n",
    "PCA_of_IMG=pca.transform(IMG)\n",
    "print(PCA_of_IMG.shape,Ytrain.shape)"
   ]
  },
  {
   "cell_type": "code",
   "execution_count": 20,
   "metadata": {},
   "outputs": [
    {
     "data": {
      "text/plain": [
       "numpy.ndarray"
      ]
     },
     "execution_count": 20,
     "metadata": {},
     "output_type": "execute_result"
    }
   ],
   "source": [
    "type(PCA_of_IMG)"
   ]
  },
  {
   "cell_type": "code",
   "execution_count": 21,
   "metadata": {},
   "outputs": [
    {
     "data": {
      "text/html": [
       "<div>\n",
       "<style scoped>\n",
       "    .dataframe tbody tr th:only-of-type {\n",
       "        vertical-align: middle;\n",
       "    }\n",
       "\n",
       "    .dataframe tbody tr th {\n",
       "        vertical-align: top;\n",
       "    }\n",
       "\n",
       "    .dataframe thead th {\n",
       "        text-align: right;\n",
       "    }\n",
       "</style>\n",
       "<table border=\"1\" class=\"dataframe\">\n",
       "  <thead>\n",
       "    <tr style=\"text-align: right;\">\n",
       "      <th></th>\n",
       "      <th>file</th>\n",
       "      <th>date</th>\n",
       "      <th>location</th>\n",
       "      <th>health</th>\n",
       "    </tr>\n",
       "  </thead>\n",
       "  <tbody>\n",
       "    <tr>\n",
       "      <th>0</th>\n",
       "      <td>040_270.png</td>\n",
       "      <td>8/21/18</td>\n",
       "      <td>Athens, GA, USA</td>\n",
       "      <td>few varrao, hive beetles</td>\n",
       "    </tr>\n",
       "    <tr>\n",
       "      <th>1</th>\n",
       "      <td>016_004.png</td>\n",
       "      <td>8/20/18</td>\n",
       "      <td>San Jose, CA, USA</td>\n",
       "      <td>healthy</td>\n",
       "    </tr>\n",
       "    <tr>\n",
       "      <th>2</th>\n",
       "      <td>005_112.png</td>\n",
       "      <td>7/7/18</td>\n",
       "      <td>Saratoga, CA, USA</td>\n",
       "      <td>healthy</td>\n",
       "    </tr>\n",
       "    <tr>\n",
       "      <th>3</th>\n",
       "      <td>015_466.png</td>\n",
       "      <td>8/6/18</td>\n",
       "      <td>Saratoga, CA, USA</td>\n",
       "      <td>healthy</td>\n",
       "    </tr>\n",
       "    <tr>\n",
       "      <th>4</th>\n",
       "      <td>015_777.png</td>\n",
       "      <td>8/6/18</td>\n",
       "      <td>Saratoga, CA, USA</td>\n",
       "      <td>healthy</td>\n",
       "    </tr>\n",
       "  </tbody>\n",
       "</table>\n",
       "</div>"
      ],
      "text/plain": [
       "          file     date           location                    health\n",
       "0  040_270.png  8/21/18    Athens, GA, USA  few varrao, hive beetles\n",
       "1  016_004.png  8/20/18  San Jose, CA, USA                   healthy\n",
       "2  005_112.png   7/7/18  Saratoga, CA, USA                   healthy\n",
       "3  015_466.png   8/6/18  Saratoga, CA, USA                   healthy\n",
       "4  015_777.png   8/6/18  Saratoga, CA, USA                   healthy"
      ]
     },
     "execution_count": 21,
     "metadata": {},
     "output_type": "execute_result"
    }
   ],
   "source": [
    "test_data = pd.read_csv('../input/ds-14/test.csv')\n",
    "test_data.head()"
   ]
  },
  {
   "cell_type": "code",
   "execution_count": 22,
   "metadata": {},
   "outputs": [],
   "source": [
    "location_test = '../input/ds-14/test images/test images/'"
   ]
  },
  {
   "cell_type": "code",
   "execution_count": 23,
   "metadata": {},
   "outputs": [],
   "source": [
    "oriimg = cv2.imread(location_test+test_data.file[0])\n",
    "IMG_test = cv2.resize(oriimg,(W2,H2),interpolation=cv2.INTER_CUBIC).flatten()\n",
    "\n",
    "for i,filename in enumerate(test_data.file):\n",
    "    if i != 0:\n",
    "        oriimg = cv2.imread(location_test+filename)\n",
    "        newimg = cv2.resize(oriimg,(W2,H2),interpolation=cv2.INTER_CUBIC).flatten()\n",
    "        IMG_test = np.vstack((IMG_test,newimg))"
   ]
  },
  {
   "cell_type": "code",
   "execution_count": 24,
   "metadata": {},
   "outputs": [],
   "source": [
    "test_img=pca.transform(IMG_test)"
   ]
  },
  {
   "cell_type": "markdown",
   "metadata": {},
   "source": [
    "# RandomForest Tuning"
   ]
  },
  {
   "cell_type": "code",
   "execution_count": 25,
   "metadata": {},
   "outputs": [],
   "source": [
    "xtrain = PCA_of_IMG\n",
    "ytrain = Ytrain\n",
    "xtest = test_img"
   ]
  },
  {
   "cell_type": "code",
   "execution_count": 26,
   "metadata": {},
   "outputs": [],
   "source": [
    "#Number of trees in random forest\n",
    "n_estimators = [int(x) for x in np.linspace(start=49, stop=51, num=3)]\n",
    "\n",
    "# Maximum number of levels in tree\n",
    "max_depth = [int(x) for x in np.linspace(24, 26, num=3)]\n",
    "max_depth.append(None)\n",
    "\n",
    "# Minimum number of samples required to split a node\n",
    "min_samples_split = [ 2]\n",
    "\n",
    "#criterion = [\"gini\", \"entropy\"]\n",
    "criterion = [ \"entropy\"]\n",
    "#max_features = [\"auto\", \"sqrt\", \"log2\"]"
   ]
  },
  {
   "cell_type": "code",
   "execution_count": 27,
   "metadata": {},
   "outputs": [],
   "source": [
    "random_grid1 = {\"n_estimators\": n_estimators,\n",
    "                \"criterion\": criterion,\n",
    "                \"max_depth\": max_depth,\n",
    "                #\"max_features\": max_features,\n",
    "                \"min_samples_split\": min_samples_split}"
   ]
  },
  {
   "cell_type": "code",
   "execution_count": 28,
   "metadata": {},
   "outputs": [],
   "source": [
    "from sklearn.ensemble import RandomForestClassifier\n",
    "from sklearn.model_selection import RandomizedSearchCV"
   ]
  },
  {
   "cell_type": "code",
   "execution_count": 29,
   "metadata": {},
   "outputs": [],
   "source": [
    "clf_rf = RandomForestClassifier(n_estimators=500,random_state=100)\n",
    "rf_random = RandomizedSearchCV(\n",
    "    estimator=clf_rf, param_distributions=random_grid1, n_iter=5000, cv=5, verbose=1, random_state=100, n_jobs=4)\n"
   ]
  },
  {
   "cell_type": "code",
   "execution_count": 30,
   "metadata": {},
   "outputs": [
    {
     "name": "stdout",
     "output_type": "stream",
     "text": [
      "Fitting 5 folds for each of 12 candidates, totalling 60 fits\n"
     ]
    },
    {
     "name": "stderr",
     "output_type": "stream",
     "text": [
      "/opt/conda/lib/python3.6/site-packages/sklearn/model_selection/_search.py:281: UserWarning: The total space of parameters 12 is smaller than n_iter=5000. Running 12 iterations. For exhaustive searches, use GridSearchCV.\n",
      "  % (grid_size, self.n_iter, grid_size), UserWarning)\n",
      "[Parallel(n_jobs=4)]: Using backend LokyBackend with 4 concurrent workers.\n",
      "[Parallel(n_jobs=4)]: Done  42 tasks      | elapsed:  1.7min\n",
      "[Parallel(n_jobs=4)]: Done  60 out of  60 | elapsed:  2.3min finished\n"
     ]
    },
    {
     "data": {
      "text/plain": [
       "RandomizedSearchCV(cv=5, error_score=nan,\n",
       "                   estimator=RandomForestClassifier(bootstrap=True,\n",
       "                                                    ccp_alpha=0.0,\n",
       "                                                    class_weight=None,\n",
       "                                                    criterion='gini',\n",
       "                                                    max_depth=None,\n",
       "                                                    max_features='auto',\n",
       "                                                    max_leaf_nodes=None,\n",
       "                                                    max_samples=None,\n",
       "                                                    min_impurity_decrease=0.0,\n",
       "                                                    min_impurity_split=None,\n",
       "                                                    min_samples_leaf=1,\n",
       "                                                    min_samples_split=2,\n",
       "                                                    min_weight_fraction_leaf=0.0,\n",
       "                                                    n_estimators=500,\n",
       "                                                    n_jobs=None,\n",
       "                                                    oob_score=False,\n",
       "                                                    random_state=100, verbose=0,\n",
       "                                                    warm_start=False),\n",
       "                   iid='deprecated', n_iter=5000, n_jobs=4,\n",
       "                   param_distributions={'criterion': ['entropy'],\n",
       "                                        'max_depth': [24, 25, 26, None],\n",
       "                                        'min_samples_split': [2],\n",
       "                                        'n_estimators': [49, 50, 51]},\n",
       "                   pre_dispatch='2*n_jobs', random_state=100, refit=True,\n",
       "                   return_train_score=False, scoring=None, verbose=1)"
      ]
     },
     "execution_count": 30,
     "metadata": {},
     "output_type": "execute_result"
    }
   ],
   "source": [
    "# Fit the random search model\n",
    "rf_random.fit(xtrain, ytrain)"
   ]
  },
  {
   "cell_type": "code",
   "execution_count": 31,
   "metadata": {},
   "outputs": [],
   "source": [
    "clf_rf_rand = rf_random.best_estimator_"
   ]
  },
  {
   "cell_type": "code",
   "execution_count": 32,
   "metadata": {},
   "outputs": [
    {
     "data": {
      "text/plain": [
       "RandomForestClassifier(bootstrap=True, ccp_alpha=0.0, class_weight=None,\n",
       "                       criterion='entropy', max_depth=24, max_features='auto',\n",
       "                       max_leaf_nodes=None, max_samples=None,\n",
       "                       min_impurity_decrease=0.0, min_impurity_split=None,\n",
       "                       min_samples_leaf=1, min_samples_split=2,\n",
       "                       min_weight_fraction_leaf=0.0, n_estimators=51,\n",
       "                       n_jobs=None, oob_score=False, random_state=100,\n",
       "                       verbose=0, warm_start=False)"
      ]
     },
     "execution_count": 32,
     "metadata": {},
     "output_type": "execute_result"
    }
   ],
   "source": [
    "\n",
    "clf_rf_rand.fit(xtrain, ytrain)"
   ]
  },
  {
   "cell_type": "code",
   "execution_count": 33,
   "metadata": {},
   "outputs": [],
   "source": [
    "pred_rf_rand = clf_rf_rand.predict(xtest)"
   ]
  },
  {
   "cell_type": "markdown",
   "metadata": {},
   "source": [
    "# Submission\n"
   ]
  },
  {
   "cell_type": "code",
   "execution_count": 34,
   "metadata": {},
   "outputs": [],
   "source": [
    "pred = pred_rf_rand"
   ]
  },
  {
   "cell_type": "code",
   "execution_count": 35,
   "metadata": {},
   "outputs": [
    {
     "data": {
      "text/plain": [
       "array(['Italian honey bee', 'Italian honey bee', 'Italian honey bee',\n",
       "       'Italian honey bee', 'Italian honey bee', 'Italian honey bee',\n",
       "       'Italian honey bee', 'Russian honey bee', 'Italian honey bee',\n",
       "       'Italian honey bee', 'Italian honey bee', 'Italian honey bee',\n",
       "       '1 Mixed local stock 2', 'Italian honey bee', 'Italian honey bee',\n",
       "       'Russian honey bee', 'Italian honey bee', 'Italian honey bee',\n",
       "       'Carniolan honey bee', 'Italian honey bee', 'Italian honey bee',\n",
       "       'Italian honey bee', 'Italian honey bee', 'Italian honey bee',\n",
       "       'Italian honey bee', 'Italian honey bee', 'Italian honey bee',\n",
       "       'Italian honey bee', 'Italian honey bee', 'Italian honey bee',\n",
       "       'Italian honey bee', 'Russian honey bee', 'Italian honey bee',\n",
       "       'Italian honey bee', 'Italian honey bee', 'Russian honey bee',\n",
       "       'Italian honey bee', 'Italian honey bee', 'Italian honey bee',\n",
       "       '1 Mixed local stock 2', 'Italian honey bee',\n",
       "       '1 Mixed local stock 2', 'Italian honey bee', 'Italian honey bee',\n",
       "       'Italian honey bee', 'Italian honey bee', '1 Mixed local stock 2',\n",
       "       'Italian honey bee', 'Italian honey bee', 'Carniolan honey bee',\n",
       "       'Italian honey bee', 'Italian honey bee', 'Carniolan honey bee',\n",
       "       'Italian honey bee', 'Carniolan honey bee', 'Carniolan honey bee',\n",
       "       'Italian honey bee', 'VSH Italian honey bee', 'Italian honey bee',\n",
       "       'Italian honey bee', 'Italian honey bee', 'Italian honey bee',\n",
       "       'Italian honey bee', 'Italian honey bee', 'Italian honey bee',\n",
       "       'Italian honey bee', 'Italian honey bee', 'Italian honey bee',\n",
       "       'Russian honey bee', 'Italian honey bee', 'Russian honey bee',\n",
       "       'Carniolan honey bee', 'Carniolan honey bee', '-1',\n",
       "       'Russian honey bee', 'Italian honey bee', 'Italian honey bee',\n",
       "       '1 Mixed local stock 2', 'Italian honey bee', 'Italian honey bee',\n",
       "       'Italian honey bee', 'Italian honey bee', 'Carniolan honey bee',\n",
       "       'Italian honey bee', 'Italian honey bee', 'Italian honey bee',\n",
       "       'Italian honey bee', 'Carniolan honey bee', 'Italian honey bee',\n",
       "       'Russian honey bee', 'Italian honey bee', 'Italian honey bee',\n",
       "       'Italian honey bee', 'Italian honey bee', 'Italian honey bee',\n",
       "       'Italian honey bee', 'Italian honey bee', 'Italian honey bee',\n",
       "       'Italian honey bee', 'Russian honey bee', 'Italian honey bee',\n",
       "       'Italian honey bee', 'Carniolan honey bee', 'Italian honey bee',\n",
       "       'Italian honey bee', 'Carniolan honey bee', 'Italian honey bee',\n",
       "       'Italian honey bee', 'Carniolan honey bee', 'Italian honey bee',\n",
       "       'Italian honey bee', 'Italian honey bee', 'Italian honey bee',\n",
       "       'Italian honey bee', 'Italian honey bee', 'Italian honey bee',\n",
       "       'Italian honey bee', 'Italian honey bee', 'Italian honey bee',\n",
       "       'Italian honey bee', 'Italian honey bee', 'Italian honey bee',\n",
       "       'Italian honey bee', 'Italian honey bee', 'Italian honey bee',\n",
       "       'Italian honey bee', 'Italian honey bee', 'Italian honey bee',\n",
       "       'Italian honey bee', 'Italian honey bee', 'Italian honey bee',\n",
       "       'Carniolan honey bee', 'Italian honey bee', 'Italian honey bee',\n",
       "       'Russian honey bee', 'Italian honey bee', '1 Mixed local stock 2',\n",
       "       'Italian honey bee', 'Russian honey bee', 'Russian honey bee',\n",
       "       'Italian honey bee', 'Italian honey bee', 'Italian honey bee',\n",
       "       'Russian honey bee', 'Italian honey bee', 'Italian honey bee',\n",
       "       'Italian honey bee', 'Italian honey bee', 'Italian honey bee',\n",
       "       'Italian honey bee', 'Italian honey bee', 'Italian honey bee',\n",
       "       'Italian honey bee', 'Russian honey bee', 'Italian honey bee',\n",
       "       'Italian honey bee', 'Italian honey bee', 'Italian honey bee',\n",
       "       'Russian honey bee', 'Italian honey bee', 'Carniolan honey bee',\n",
       "       'Italian honey bee', 'Italian honey bee', 'Italian honey bee',\n",
       "       'Carniolan honey bee', 'Italian honey bee', 'Italian honey bee',\n",
       "       'Italian honey bee', 'Italian honey bee', 'Italian honey bee',\n",
       "       'Italian honey bee', 'Italian honey bee', 'Carniolan honey bee',\n",
       "       'Italian honey bee', 'Italian honey bee', 'Italian honey bee',\n",
       "       'Italian honey bee', 'Carniolan honey bee', 'Italian honey bee',\n",
       "       'Italian honey bee', 'Italian honey bee', 'Italian honey bee',\n",
       "       'Italian honey bee', 'Italian honey bee', 'Russian honey bee',\n",
       "       'Carniolan honey bee', 'Italian honey bee', 'Carniolan honey bee',\n",
       "       'Italian honey bee', 'Italian honey bee', 'Italian honey bee',\n",
       "       'Italian honey bee', 'Italian honey bee', 'Italian honey bee',\n",
       "       'Italian honey bee', '1 Mixed local stock 2', 'Italian honey bee',\n",
       "       'Italian honey bee', 'Russian honey bee', 'Italian honey bee',\n",
       "       'Italian honey bee', 'Italian honey bee', 'Italian honey bee',\n",
       "       'Italian honey bee', 'Italian honey bee', 'Carniolan honey bee',\n",
       "       'Italian honey bee', 'Carniolan honey bee', 'Italian honey bee',\n",
       "       'Italian honey bee', 'Italian honey bee', 'Italian honey bee',\n",
       "       'Russian honey bee', 'Carniolan honey bee', '-1',\n",
       "       'Italian honey bee', 'Italian honey bee', 'Italian honey bee',\n",
       "       'Italian honey bee', 'Italian honey bee', 'Italian honey bee',\n",
       "       'Italian honey bee', 'Italian honey bee', 'Italian honey bee',\n",
       "       'Italian honey bee', 'Italian honey bee', 'Italian honey bee',\n",
       "       'Italian honey bee', 'Carniolan honey bee', 'Italian honey bee',\n",
       "       'Italian honey bee', 'Italian honey bee', 'Italian honey bee',\n",
       "       'Italian honey bee', 'Italian honey bee', 'Italian honey bee',\n",
       "       'Russian honey bee', 'Italian honey bee', 'Italian honey bee',\n",
       "       'Italian honey bee', 'Italian honey bee', 'Italian honey bee',\n",
       "       'Carniolan honey bee', 'Italian honey bee', 'Italian honey bee',\n",
       "       'Russian honey bee', 'Italian honey bee', 'Italian honey bee',\n",
       "       'Russian honey bee', 'Italian honey bee', 'Italian honey bee',\n",
       "       'Italian honey bee', 'Italian honey bee', 'Italian honey bee',\n",
       "       'Italian honey bee', 'Italian honey bee', 'Italian honey bee',\n",
       "       'Italian honey bee', 'Italian honey bee', 'Carniolan honey bee',\n",
       "       'Italian honey bee', 'Italian honey bee', 'Italian honey bee',\n",
       "       'Italian honey bee', 'Italian honey bee', 'Carniolan honey bee',\n",
       "       'Italian honey bee', 'Italian honey bee', 'Italian honey bee',\n",
       "       'Italian honey bee', 'Italian honey bee', 'Italian honey bee',\n",
       "       'Italian honey bee', 'Italian honey bee', '1 Mixed local stock 2',\n",
       "       'Italian honey bee', 'Italian honey bee', 'Russian honey bee',\n",
       "       'Carniolan honey bee', 'Russian honey bee', 'Italian honey bee',\n",
       "       'Russian honey bee', 'Italian honey bee', 'Italian honey bee',\n",
       "       'Italian honey bee', 'Italian honey bee', '-1',\n",
       "       'Russian honey bee', 'Italian honey bee', 'Italian honey bee',\n",
       "       'Italian honey bee', 'Italian honey bee', 'Italian honey bee',\n",
       "       'Italian honey bee', 'Italian honey bee', 'Italian honey bee',\n",
       "       'Italian honey bee', 'Italian honey bee', 'Italian honey bee',\n",
       "       'Italian honey bee', 'Italian honey bee', '-1',\n",
       "       'Italian honey bee', 'Italian honey bee', 'Italian honey bee',\n",
       "       'Italian honey bee', 'Italian honey bee', 'Russian honey bee',\n",
       "       'Carniolan honey bee', 'Carniolan honey bee', 'Italian honey bee',\n",
       "       'Italian honey bee', 'Italian honey bee', 'Italian honey bee',\n",
       "       'Carniolan honey bee', 'Italian honey bee', 'Italian honey bee',\n",
       "       'Italian honey bee', 'Italian honey bee', 'Italian honey bee',\n",
       "       'Italian honey bee', 'Italian honey bee', 'Italian honey bee',\n",
       "       'Italian honey bee', 'Carniolan honey bee', 'Russian honey bee',\n",
       "       'Italian honey bee', 'Italian honey bee', 'Italian honey bee',\n",
       "       'Russian honey bee', 'Carniolan honey bee', 'Italian honey bee',\n",
       "       'Italian honey bee', 'Italian honey bee', 'Italian honey bee',\n",
       "       'Italian honey bee', 'Carniolan honey bee', 'Carniolan honey bee',\n",
       "       'Italian honey bee', 'Italian honey bee', 'Italian honey bee',\n",
       "       'Italian honey bee', 'Italian honey bee', 'Italian honey bee',\n",
       "       'Italian honey bee', 'Carniolan honey bee', 'Italian honey bee',\n",
       "       'Carniolan honey bee', 'Russian honey bee', 'Italian honey bee',\n",
       "       'Italian honey bee', 'Italian honey bee', 'Italian honey bee',\n",
       "       '-1', 'Italian honey bee', 'Italian honey bee',\n",
       "       'Italian honey bee', 'Italian honey bee', 'Italian honey bee',\n",
       "       'Italian honey bee', 'Carniolan honey bee', 'Carniolan honey bee',\n",
       "       'Italian honey bee', 'Italian honey bee', 'Italian honey bee',\n",
       "       'Italian honey bee', 'Italian honey bee', 'Italian honey bee',\n",
       "       'Italian honey bee', 'Italian honey bee', 'Italian honey bee',\n",
       "       'Italian honey bee', 'Italian honey bee', 'Italian honey bee',\n",
       "       'Italian honey bee', 'Italian honey bee', 'Italian honey bee',\n",
       "       'Italian honey bee', 'Italian honey bee', '-1',\n",
       "       'Italian honey bee', 'Italian honey bee', 'Italian honey bee',\n",
       "       'Italian honey bee', 'Italian honey bee', 'Carniolan honey bee',\n",
       "       'Italian honey bee', 'Carniolan honey bee', 'Italian honey bee',\n",
       "       'Carniolan honey bee', 'Italian honey bee', 'Italian honey bee',\n",
       "       'Carniolan honey bee', '1 Mixed local stock 2',\n",
       "       'Italian honey bee', 'Italian honey bee', 'Italian honey bee',\n",
       "       'Italian honey bee', 'Russian honey bee', 'Italian honey bee',\n",
       "       'Italian honey bee', 'Italian honey bee', 'Italian honey bee',\n",
       "       'Carniolan honey bee', 'Italian honey bee', 'Russian honey bee',\n",
       "       'Italian honey bee', 'Italian honey bee', '1 Mixed local stock 2',\n",
       "       'Italian honey bee', 'Italian honey bee', 'Russian honey bee',\n",
       "       'Italian honey bee', 'Italian honey bee', 'Italian honey bee',\n",
       "       'Russian honey bee', 'Italian honey bee', 'Italian honey bee',\n",
       "       'Italian honey bee', 'Italian honey bee', 'Russian honey bee',\n",
       "       'Italian honey bee', '-1', 'Italian honey bee',\n",
       "       'Italian honey bee', 'Russian honey bee', 'Italian honey bee',\n",
       "       'Italian honey bee', 'Italian honey bee', 'Italian honey bee',\n",
       "       'Italian honey bee', 'Italian honey bee', 'Italian honey bee',\n",
       "       'Carniolan honey bee', 'Italian honey bee', 'Italian honey bee',\n",
       "       'Italian honey bee', 'Carniolan honey bee', 'Italian honey bee',\n",
       "       'Italian honey bee', 'Italian honey bee', 'Italian honey bee',\n",
       "       'Italian honey bee', 'Italian honey bee', 'Italian honey bee',\n",
       "       'Italian honey bee', 'Russian honey bee', 'Italian honey bee',\n",
       "       'Italian honey bee', 'Italian honey bee', 'Italian honey bee',\n",
       "       'Italian honey bee', 'Italian honey bee', 'Russian honey bee',\n",
       "       'Italian honey bee', 'Italian honey bee', '-1',\n",
       "       'Italian honey bee', 'Russian honey bee', 'Russian honey bee',\n",
       "       'Italian honey bee', 'Italian honey bee', 'Italian honey bee',\n",
       "       'Russian honey bee', 'Italian honey bee', 'Italian honey bee',\n",
       "       'Italian honey bee', 'Italian honey bee', 'Italian honey bee',\n",
       "       'Italian honey bee', 'Italian honey bee', 'Russian honey bee',\n",
       "       'Russian honey bee', 'Italian honey bee', 'Italian honey bee',\n",
       "       'Italian honey bee', 'Italian honey bee', 'Carniolan honey bee',\n",
       "       'Italian honey bee', 'Italian honey bee', 'Italian honey bee',\n",
       "       'Russian honey bee', 'Italian honey bee', 'Italian honey bee',\n",
       "       'Italian honey bee', 'Italian honey bee', 'Italian honey bee',\n",
       "       'Italian honey bee', 'Italian honey bee', 'Italian honey bee',\n",
       "       'Italian honey bee', 'Carniolan honey bee', 'Italian honey bee',\n",
       "       'Italian honey bee', 'Italian honey bee', 'Italian honey bee',\n",
       "       'Italian honey bee', 'Italian honey bee', 'Italian honey bee',\n",
       "       'Russian honey bee', 'Italian honey bee', 'Italian honey bee',\n",
       "       'Italian honey bee', 'Italian honey bee', 'Russian honey bee',\n",
       "       'Russian honey bee', 'Italian honey bee', 'Italian honey bee',\n",
       "       'Italian honey bee', 'Italian honey bee', 'Italian honey bee',\n",
       "       'Italian honey bee', 'Carniolan honey bee', 'Italian honey bee',\n",
       "       'Italian honey bee', 'Russian honey bee', 'Italian honey bee',\n",
       "       'Italian honey bee', 'Italian honey bee', 'Carniolan honey bee',\n",
       "       'Italian honey bee', 'Carniolan honey bee', 'Italian honey bee',\n",
       "       'Italian honey bee', 'Italian honey bee', 'Carniolan honey bee',\n",
       "       'Italian honey bee', 'Italian honey bee', 'Italian honey bee',\n",
       "       'Italian honey bee', 'Russian honey bee', 'Italian honey bee',\n",
       "       'Italian honey bee', 'Carniolan honey bee', 'Italian honey bee',\n",
       "       'Italian honey bee', 'Italian honey bee', 'Italian honey bee',\n",
       "       'Italian honey bee', 'Italian honey bee', 'Carniolan honey bee',\n",
       "       'Italian honey bee', 'Russian honey bee', 'Italian honey bee',\n",
       "       'Italian honey bee', 'Italian honey bee', 'Italian honey bee',\n",
       "       'Italian honey bee', 'Carniolan honey bee', 'Russian honey bee',\n",
       "       'Italian honey bee', 'Italian honey bee', 'Italian honey bee',\n",
       "       'Russian honey bee', 'Italian honey bee', 'Italian honey bee',\n",
       "       'Italian honey bee', 'Italian honey bee', 'Carniolan honey bee',\n",
       "       'Italian honey bee', 'Italian honey bee', 'Italian honey bee',\n",
       "       'Italian honey bee', 'Italian honey bee', 'Italian honey bee',\n",
       "       'Italian honey bee', 'Italian honey bee', 'Italian honey bee',\n",
       "       'Carniolan honey bee', 'Italian honey bee', 'Italian honey bee',\n",
       "       'Italian honey bee', 'Italian honey bee', 'Italian honey bee',\n",
       "       'Italian honey bee', 'Italian honey bee', 'Italian honey bee',\n",
       "       'Italian honey bee', 'Italian honey bee', 'Russian honey bee',\n",
       "       'Italian honey bee', 'Italian honey bee', 'Italian honey bee',\n",
       "       'Italian honey bee', 'Carniolan honey bee', 'Italian honey bee',\n",
       "       'Italian honey bee', 'Italian honey bee', 'Italian honey bee',\n",
       "       'Italian honey bee', 'Italian honey bee', 'Italian honey bee',\n",
       "       'Italian honey bee', 'Italian honey bee', 'Italian honey bee',\n",
       "       'Italian honey bee', 'Italian honey bee', 'Italian honey bee',\n",
       "       'Italian honey bee', 'Italian honey bee', 'Italian honey bee',\n",
       "       'Italian honey bee', 'Russian honey bee', 'Italian honey bee',\n",
       "       'Italian honey bee', 'Russian honey bee', 'Italian honey bee',\n",
       "       'Italian honey bee', 'Italian honey bee', 'Italian honey bee',\n",
       "       'Italian honey bee', 'Italian honey bee', 'Italian honey bee',\n",
       "       'Italian honey bee', 'Italian honey bee', 'Italian honey bee',\n",
       "       'Italian honey bee', 'Italian honey bee', 'Italian honey bee',\n",
       "       'Italian honey bee', 'Italian honey bee', 'Italian honey bee',\n",
       "       'Italian honey bee', 'Italian honey bee', 'Italian honey bee',\n",
       "       'Italian honey bee', 'Italian honey bee', 'Italian honey bee',\n",
       "       'Italian honey bee', 'Italian honey bee', 'Italian honey bee',\n",
       "       'Italian honey bee', 'Carniolan honey bee', 'Italian honey bee',\n",
       "       'Italian honey bee', 'Russian honey bee', 'Italian honey bee',\n",
       "       'Italian honey bee', 'Italian honey bee', 'Italian honey bee',\n",
       "       'Italian honey bee', 'Italian honey bee', 'Italian honey bee',\n",
       "       'Italian honey bee', 'Italian honey bee', 'Italian honey bee',\n",
       "       'Italian honey bee', '1 Mixed local stock 2', 'Italian honey bee',\n",
       "       'Russian honey bee', 'Italian honey bee', 'Italian honey bee',\n",
       "       'Italian honey bee', '1 Mixed local stock 2', 'Italian honey bee',\n",
       "       'Italian honey bee', 'Italian honey bee', 'Italian honey bee',\n",
       "       'Russian honey bee', 'Carniolan honey bee', 'Italian honey bee',\n",
       "       'Italian honey bee', 'Italian honey bee', 'Italian honey bee',\n",
       "       'Italian honey bee', 'Italian honey bee', 'Italian honey bee',\n",
       "       'Italian honey bee', 'Italian honey bee', 'Italian honey bee',\n",
       "       'Italian honey bee', 'Italian honey bee', 'Italian honey bee',\n",
       "       'Italian honey bee', 'Italian honey bee', 'Italian honey bee',\n",
       "       '-1', 'Italian honey bee', 'Italian honey bee',\n",
       "       'Italian honey bee', 'Italian honey bee', 'Italian honey bee',\n",
       "       'Italian honey bee', 'Italian honey bee', 'Italian honey bee',\n",
       "       'Italian honey bee', 'Italian honey bee', 'Italian honey bee',\n",
       "       'Carniolan honey bee', 'Italian honey bee', 'Carniolan honey bee',\n",
       "       'Italian honey bee', 'Italian honey bee', 'Russian honey bee',\n",
       "       'Italian honey bee', 'Italian honey bee', 'Italian honey bee',\n",
       "       'Italian honey bee', 'Italian honey bee', 'Italian honey bee',\n",
       "       'Italian honey bee', 'Italian honey bee', 'Italian honey bee',\n",
       "       'Italian honey bee', 'Italian honey bee', 'Russian honey bee',\n",
       "       'Italian honey bee', 'Italian honey bee', 'Italian honey bee',\n",
       "       'Italian honey bee', 'Italian honey bee', 'Italian honey bee',\n",
       "       'Russian honey bee', '1 Mixed local stock 2', 'Italian honey bee',\n",
       "       'Italian honey bee', '1 Mixed local stock 2', 'Italian honey bee',\n",
       "       'Italian honey bee', 'Italian honey bee', 'Italian honey bee',\n",
       "       'Italian honey bee', 'Italian honey bee', 'Italian honey bee',\n",
       "       'Italian honey bee', 'Italian honey bee', 'Italian honey bee',\n",
       "       'Italian honey bee', 'Italian honey bee', 'Italian honey bee',\n",
       "       'Italian honey bee', 'Carniolan honey bee', 'Carniolan honey bee',\n",
       "       'Italian honey bee', 'Italian honey bee', 'Italian honey bee',\n",
       "       'Italian honey bee', 'Carniolan honey bee', 'Italian honey bee',\n",
       "       'Italian honey bee', 'Italian honey bee', 'Italian honey bee',\n",
       "       'Russian honey bee', 'Italian honey bee', 'Italian honey bee',\n",
       "       'Italian honey bee', 'Russian honey bee', 'Italian honey bee',\n",
       "       'Italian honey bee', 'Italian honey bee', 'Italian honey bee',\n",
       "       'Italian honey bee', 'Italian honey bee', 'Italian honey bee',\n",
       "       'Italian honey bee', 'Italian honey bee', 'Italian honey bee',\n",
       "       'Italian honey bee', 'Italian honey bee', 'Italian honey bee',\n",
       "       'Italian honey bee', 'Italian honey bee', 'Carniolan honey bee',\n",
       "       'Italian honey bee', '-1', 'Italian honey bee',\n",
       "       'Italian honey bee', 'Russian honey bee', 'Italian honey bee',\n",
       "       'Italian honey bee', 'Italian honey bee', 'Italian honey bee',\n",
       "       'Italian honey bee', 'Italian honey bee', 'Italian honey bee',\n",
       "       'Italian honey bee', 'Italian honey bee', 'Italian honey bee',\n",
       "       'Italian honey bee', 'Italian honey bee', 'Italian honey bee',\n",
       "       'Italian honey bee', 'Russian honey bee', 'Italian honey bee',\n",
       "       'Italian honey bee', 'Italian honey bee', 'Russian honey bee',\n",
       "       'Italian honey bee', 'Italian honey bee', 'Italian honey bee',\n",
       "       'Italian honey bee', 'Carniolan honey bee', 'Italian honey bee',\n",
       "       'Italian honey bee', 'Italian honey bee', 'Italian honey bee',\n",
       "       'Italian honey bee', 'Italian honey bee', 'Italian honey bee',\n",
       "       'Italian honey bee', 'Italian honey bee', 'Italian honey bee',\n",
       "       'Italian honey bee', 'Italian honey bee', 'Italian honey bee',\n",
       "       'Italian honey bee', 'Italian honey bee', 'Italian honey bee',\n",
       "       'Italian honey bee', 'Italian honey bee', 'Italian honey bee',\n",
       "       'Carniolan honey bee', 'Italian honey bee', 'Italian honey bee',\n",
       "       'Italian honey bee', 'Italian honey bee', 'Italian honey bee',\n",
       "       'Italian honey bee', 'Italian honey bee', 'Italian honey bee',\n",
       "       'Italian honey bee', '1 Mixed local stock 2', 'Italian honey bee',\n",
       "       'Italian honey bee', 'Russian honey bee', 'Italian honey bee',\n",
       "       'Italian honey bee', 'Italian honey bee', 'Italian honey bee',\n",
       "       'Italian honey bee', 'Italian honey bee', 'Italian honey bee',\n",
       "       'Italian honey bee', 'Italian honey bee', 'Italian honey bee',\n",
       "       'Italian honey bee', 'Carniolan honey bee', 'Italian honey bee',\n",
       "       'Russian honey bee', 'Italian honey bee', 'Italian honey bee',\n",
       "       'Italian honey bee', 'Italian honey bee', 'Italian honey bee',\n",
       "       'Italian honey bee', 'Carniolan honey bee', 'Italian honey bee',\n",
       "       'Italian honey bee', 'Italian honey bee', 'Italian honey bee',\n",
       "       '-1', 'Italian honey bee', 'Italian honey bee',\n",
       "       'Italian honey bee', 'Italian honey bee', 'Carniolan honey bee',\n",
       "       'Italian honey bee', 'Russian honey bee', 'Italian honey bee',\n",
       "       'Italian honey bee', 'Italian honey bee', 'Carniolan honey bee',\n",
       "       'Russian honey bee', 'Italian honey bee', 'Italian honey bee',\n",
       "       'Italian honey bee', 'Italian honey bee', 'Italian honey bee',\n",
       "       'Russian honey bee', 'Italian honey bee', 'Italian honey bee',\n",
       "       'Italian honey bee', 'Carniolan honey bee', 'Italian honey bee',\n",
       "       'Italian honey bee', 'Italian honey bee', 'Italian honey bee',\n",
       "       'Italian honey bee', 'Italian honey bee', 'Italian honey bee',\n",
       "       'Italian honey bee', 'Italian honey bee', 'Russian honey bee',\n",
       "       'Italian honey bee', 'Italian honey bee', '1 Mixed local stock 2',\n",
       "       'Italian honey bee', 'Italian honey bee', 'Italian honey bee',\n",
       "       'Russian honey bee', 'Russian honey bee', 'Italian honey bee',\n",
       "       'Italian honey bee', 'Italian honey bee', 'Italian honey bee',\n",
       "       'Italian honey bee', 'Italian honey bee', 'Italian honey bee',\n",
       "       'Italian honey bee', 'Italian honey bee', 'Italian honey bee',\n",
       "       'Russian honey bee', 'Italian honey bee', 'Italian honey bee',\n",
       "       'Italian honey bee', 'Italian honey bee', 'Italian honey bee',\n",
       "       'Italian honey bee', 'Italian honey bee', 'Italian honey bee',\n",
       "       'Italian honey bee', 'Italian honey bee', 'Italian honey bee',\n",
       "       'Italian honey bee', 'Italian honey bee', 'Italian honey bee',\n",
       "       'Carniolan honey bee', 'Italian honey bee', 'Italian honey bee',\n",
       "       'Italian honey bee', 'Italian honey bee', 'Carniolan honey bee',\n",
       "       'Italian honey bee', 'Italian honey bee', 'Italian honey bee',\n",
       "       'Italian honey bee', 'Italian honey bee', 'Italian honey bee',\n",
       "       '1 Mixed local stock 2', 'Carniolan honey bee',\n",
       "       'Italian honey bee', 'Italian honey bee', 'Italian honey bee',\n",
       "       'Italian honey bee', 'Italian honey bee', 'Italian honey bee',\n",
       "       'Italian honey bee', 'Italian honey bee', '1 Mixed local stock 2',\n",
       "       'Italian honey bee', 'Italian honey bee', 'Italian honey bee',\n",
       "       'Italian honey bee', 'Italian honey bee', 'Italian honey bee',\n",
       "       'Italian honey bee', 'Italian honey bee', 'Russian honey bee',\n",
       "       'Italian honey bee', 'Italian honey bee', 'Italian honey bee',\n",
       "       'Italian honey bee', 'Russian honey bee', 'Italian honey bee',\n",
       "       'Italian honey bee', 'Italian honey bee', 'Italian honey bee',\n",
       "       'Italian honey bee', 'Italian honey bee', 'Carniolan honey bee',\n",
       "       'Russian honey bee', 'Italian honey bee', 'Russian honey bee',\n",
       "       'Italian honey bee', 'Russian honey bee', 'Italian honey bee',\n",
       "       'Italian honey bee', 'Italian honey bee', '-1',\n",
       "       'Italian honey bee', 'Carniolan honey bee', 'Italian honey bee',\n",
       "       'Italian honey bee', 'Italian honey bee', 'Italian honey bee',\n",
       "       'Italian honey bee', 'Italian honey bee', 'Italian honey bee',\n",
       "       'Russian honey bee', 'Italian honey bee', 'Italian honey bee',\n",
       "       'Italian honey bee', 'Italian honey bee', '1 Mixed local stock 2',\n",
       "       'Italian honey bee', 'Italian honey bee', 'Italian honey bee',\n",
       "       'Italian honey bee', 'Russian honey bee', 'Italian honey bee',\n",
       "       'Italian honey bee', 'Italian honey bee', 'Italian honey bee',\n",
       "       'Italian honey bee', 'Italian honey bee', 'Italian honey bee',\n",
       "       'Italian honey bee', 'Italian honey bee', 'Italian honey bee',\n",
       "       'Italian honey bee'], dtype=object)"
      ]
     },
     "execution_count": 35,
     "metadata": {},
     "output_type": "execute_result"
    }
   ],
   "source": [
    "pred"
   ]
  },
  {
   "cell_type": "code",
   "execution_count": 36,
   "metadata": {},
   "outputs": [
    {
     "data": {
      "text/plain": [
       "1000"
      ]
     },
     "execution_count": 36,
     "metadata": {},
     "output_type": "execute_result"
    }
   ],
   "source": [
    "len(pred)"
   ]
  },
  {
   "cell_type": "code",
   "execution_count": 37,
   "metadata": {},
   "outputs": [
    {
     "data": {
      "text/plain": [
       "0      040_270.png\n",
       "1      016_004.png\n",
       "2      005_112.png\n",
       "3      015_466.png\n",
       "4      015_777.png\n",
       "          ...     \n",
       "995    005_618.png\n",
       "996    001_145.png\n",
       "997    004_260.png\n",
       "998    004_315.png\n",
       "999    030_367.png\n",
       "Name: file, Length: 1000, dtype: object"
      ]
     },
     "execution_count": 37,
     "metadata": {},
     "output_type": "execute_result"
    }
   ],
   "source": [
    "test_data.file"
   ]
  },
  {
   "cell_type": "code",
   "execution_count": 38,
   "metadata": {},
   "outputs": [],
   "source": [
    "submission=pd.DataFrame({'file':test_data.file,'subspecies':pred})\n",
    "\n",
    "submission.set_index(submission.columns[0],inplace= True)\n",
    "\n",
    "# Write code here\n",
    "submission.to_csv('Submission_RF_ver_1.csv')"
   ]
  },
  {
   "cell_type": "code",
   "execution_count": null,
   "metadata": {},
   "outputs": [],
   "source": []
  }
 ],
 "metadata": {
  "kernelspec": {
   "display_name": "Python 3",
   "language": "python",
   "name": "python3"
  },
  "language_info": {
   "codemirror_mode": {
    "name": "ipython",
    "version": 3
   },
   "file_extension": ".py",
   "mimetype": "text/x-python",
   "name": "python",
   "nbconvert_exporter": "python",
   "pygments_lexer": "ipython3",
   "version": "3.7.6"
  }
 },
 "nbformat": 4,
 "nbformat_minor": 4
}
